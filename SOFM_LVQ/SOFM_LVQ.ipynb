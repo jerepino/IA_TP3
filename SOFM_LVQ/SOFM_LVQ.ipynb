{
  "nbformat": 4,
  "nbformat_minor": 0,
  "metadata": {
    "colab": {
      "name": "SOFM_LVQ.ipynb",
      "provenance": [],
      "collapsed_sections": []
    },
    "kernelspec": {
      "name": "python3",
      "display_name": "Python 3"
    },
    "accelerator": "GPU"
  },
  "cells": [
    {
      "cell_type": "markdown",
      "metadata": {
        "id": "P3CMFh_72wUO",
        "colab_type": "text"
      },
      "source": [
        "\n",
        "\n",
        "> Redes neuronales no supervizadas\n",
        "\n"
      ]
    },
    {
      "cell_type": "code",
      "metadata": {
        "id": "M21TtaxtiDUU",
        "colab_type": "code",
        "colab": {}
      },
      "source": [
        ""
      ],
      "execution_count": null,
      "outputs": []
    },
    {
      "cell_type": "markdown",
      "metadata": {
        "id": "VonOg_ry3DPz",
        "colab_type": "text"
      },
      "source": [
        "Definiciones de funciones utiles tales como: \n",
        "\n",
        "*   Funcion de vecindad h(). Esta devuelve 1 o 0 si la neurona es vecina o no.\n",
        "\n",
        "*   Funcion de radio de vecindad R(). Esta devuelve el radio de vecindad y va disminuyendo linealmente\n",
        "\n",
        "*   Funcion de distancia d(). En este caso se utilizo la distancia euclidiana. Esta funcion devuelve la distancia entre el vector de entradas y el vector de pesos sinapticos Wij. \n",
        "\n",
        "*   Funcion de train. Esta funcion contiene el proceso de train del SOFM o mapa de Kohonen.\n",
        "\n",
        "*   Funcion lvq. Esta funcion contiene el proceso para el ajuste fino y el que permite usar nuestra red para clasificacion."
      ]
    },
    {
      "cell_type": "code",
      "metadata": {
        "id": "giv38RqKekcZ",
        "colab_type": "code",
        "colab": {
          "base_uri": "https://localhost:8080/",
          "height": 35
        },
        "outputId": "65ac878f-420a-4aa5-91f6-ec3a9a6da19c"
      },
      "source": [
        "import numpy as np\n",
        "from matplotlib import pyplot as plt\n",
        "from random import choice\n",
        "import csv\n",
        "from keras.datasets import mnist\n",
        "from copy import copy\n",
        "\n",
        "def R(t, tR=52000, R0=3, Rf=1):\n",
        "    \"\"\"\n",
        "    Determina el radio de vecindad, va disminuyendo con las iteraciones\n",
        "    :param t: iteracion actual\n",
        "    :param tR: n° de iteraciones para llegar a Rf\n",
        "    :param R0: radio inicial\n",
        "    :param Rf: radio final\n",
        "    :return: R(t) radio para la iteracion actual\n",
        "    \"\"\"\n",
        "    if t > tR: \n",
        "      return Rf\n",
        "    return R0 + (Rf - R0) * t / tR\n",
        "\n",
        "\n",
        "def h(i, g, t):\n",
        "    \"\"\"\n",
        "    Funcion de vecindad: Determina si la neurona i es vecina o no de g\n",
        "    :param i: Posicion de cualquier otra neurona\n",
        "    :param g: Posicion de la neurona ganadora\n",
        "    :param t: iteracion actual\n",
        "    :return:\n",
        "    \"\"\"\n",
        "    i_g = np.sqrt(np.power(i - g, 2).sum())\n",
        "    R_ = R(t)\n",
        "\n",
        "    if i_g > R_:\n",
        "        return 0\n",
        "    else:\n",
        "        return 1\n",
        "\n",
        "\n",
        "def d(x_k, Wij):\n",
        "    \"\"\"\n",
        "    Distancia euclideana al cuadrado\n",
        "    :param x_k: entrada\n",
        "    :param Wij: vector de pesos de la neurona\n",
        "    :return d_: distancia euclideana\n",
        "    \"\"\"\n",
        "    d_ = np.power(Wij - x_k, 2)\n",
        "    d_ = d_.sum()\n",
        "    # d_ = np.sqrt(d_)\n",
        "    return d_\n",
        "\n",
        "\n",
        "def alpha(t, t_al=50000, alpha0=0.99, alphaf=0.01):\n",
        "    if t > t_al:\n",
        "      return alphaf\n",
        "    return alpha0 * np.power(alphaf / alpha0, t / t_al)\n",
        "\n",
        "\n",
        "def train(x, mapa):\n",
        "    t = 0\n",
        "    while(t<60000):\n",
        "        \n",
        "        x_ = np.array(choice(x))\n",
        "        di = []\n",
        "        mapa_di = []\n",
        "        for n, mapa_n in enumerate(mapa):\n",
        "            for m, mapa_n_m in enumerate(mapa_n):\n",
        "                di.append(d(x_, mapa_n_m))\n",
        "            mapa_di.append(np.array(di).copy())\n",
        "            di.clear()\n",
        "        dist = np.array(mapa_di)\n",
        "        pos_min = np.unravel_index(dist.argmin(), dist.shape) # indice de la neurona ganadora\n",
        "        g = np.array(pos_min)# indice de la neurona ganadora\n",
        "        \n",
        "\n",
        "        for n, mapa_n in enumerate(mapa):\n",
        "            for m, mapa_n_m in enumerate(mapa_n):\n",
        "                i = np.array([n, m])\n",
        "                mapa[n][m] = mapa_n_m + h(i, g, t) * alpha(t) * (x_ - mapa_n_m)\n",
        "\n",
        "        t += 1\n",
        "    return mapa\n",
        "  \n",
        "  \n",
        "def lvq(x, y, mapa, C):\n",
        "    t = 0\n",
        "    alp = 0.01\n",
        "   \n",
        "    while(t<60000):\n",
        "      a = np.random.randint(0, 60000)\n",
        "      \n",
        "      x_ = np.array(x[a])\n",
        "      y_ = y[a]\n",
        "      di = []\n",
        "      mapa_di = []\n",
        "      for n, mapa_n in enumerate(mapa):\n",
        "          for m, mapa_n_m in enumerate(mapa_n):\n",
        "              di.append(d(x_, mapa_n_m))\n",
        "          mapa_di.append(np.array(di).copy())\n",
        "          di.clear()\n",
        "      dist = np.array(mapa_di)\n",
        "      pos_min = np.unravel_index(dist.argmin(), dist.shape) # indice de la neurona ganadora\n",
        "      g = np.array(pos_min)\n",
        "    \n",
        "     \n",
        "      flag = True\n",
        "      for clase in C[str(y_)]:\n",
        "#         print('soy de la calse', C[str(y_)])\n",
        "#         print('el valor de la clase actual', clase)\n",
        "        if clase[0] == g[0] and clase[1] == g[1]:\n",
        "          W = mapa[g[0]][g[1]]\n",
        "          mapa[g[0]][g[1]] = W + alp * (x_ - W)\n",
        "          flag = False\n",
        "          \n",
        "      if flag:\n",
        "        W = mapa[g[0]][g[1]]\n",
        "        mapa[g[0]][g[1]] = W - alp * (x_ - W)\n",
        "        \n",
        "      t += 1\n",
        "    return mapa"
      ],
      "execution_count": null,
      "outputs": [
        {
          "output_type": "stream",
          "text": [
            "Using TensorFlow backend.\n"
          ],
          "name": "stderr"
        }
      ]
    },
    {
      "cell_type": "markdown",
      "metadata": {
        "id": "rxSzFdpRILk0",
        "colab_type": "text"
      },
      "source": [
        "Tratamiento de imagenes y tamaño del mapa \n",
        "\n",
        "k = 28 * 28 \n",
        "\n",
        "size_x = \n",
        "\n",
        "size_y =\n",
        "\n",
        "Implementacion de SOFM"
      ]
    },
    {
      "cell_type": "code",
      "metadata": {
        "id": "0SdEKup7fGd5",
        "colab_type": "code",
        "colab": {
          "base_uri": "https://localhost:8080/",
          "height": 318
        },
        "outputId": "6df93f5c-9fa0-44a6-e9d9-ac2a4971eb9b"
      },
      "source": [
        "if __name__ == '__main__':\n",
        "\n",
        "    (train_images, train_labels), (test_images, test_labels) = mnist.load_data()  \n",
        "    train_images = train_images.reshape((60000, 28 * 28))\n",
        "   \n",
        "    train_images = train_images.astype('float32') / 255\n",
        "    train_mean = train_images.mean()\n",
        "    train_images -= train_mean\n",
        "    test_images = test_images.reshape((10000, 28 * 28))\n",
        "    test_images = test_images.astype('float32') / 255\n",
        "    test_mean = test_images.mean()\n",
        "    test_images -= test_mean\n",
        "\n",
        "    k = len(train_images[0])\n",
        "#     print(k, train_images.shape)\n",
        "    size_x = 10\n",
        "    size_y = 10\n",
        "    \n",
        "    \n",
        "#     np.random.seed(101)\n",
        "    # Construyo el mapa\n",
        "    mapa = []\n",
        "    aux = []\n",
        "    # np.random.seed(101)\n",
        "    for i in range(size_x):\n",
        "        for j in range(size_y):\n",
        "            aux.append(0.1 * np.random.rand(k))\n",
        "        mapa.append(np.array(aux).copy())\n",
        "        aux.clear()\n",
        "\n",
        "   # -------------------------------------------------------------------------\n",
        "   # -                               SOFM                                    -\n",
        "   # -------------------------------------------------------------------------     \n",
        "        \n",
        "    mapa_2 = train(train_images, mapa)\n",
        "    \n",
        "# Etiquetar los cluster ya generados por el SOFM\n",
        "    \n",
        "    x_ = [train_images[1],\n",
        "          train_images[3],\n",
        "          train_images[5],\n",
        "          train_images[7],\n",
        "          train_images[2],\n",
        "          train_images[0],\n",
        "          train_images[13],\n",
        "          train_images[15],\n",
        "          train_images[17],\n",
        "          train_images[4]]\n",
        "    C = []\n",
        "    f = []\n",
        "    p = []\n",
        "    clase = {}\n",
        "    for i,x in enumerate(x_):\n",
        "      di = []\n",
        "      mapa_di = []\n",
        "      for n, mapa_n in enumerate(mapa_2):\n",
        "          for m, mapa_n_m in enumerate(mapa_n):\n",
        "              di.append(d(x, mapa_n_m))\n",
        "          mapa_di.append(np.array(di).copy())\n",
        "          di.clear()\n",
        "      dist = np.array(mapa_di)\n",
        "      d_min = dist.argmin()\n",
        "      pos_min = np.unravel_index(d_min, dist.shape) # indice de la neurona ganadora\n",
        "      g = np.array(pos_min)\n",
        "\n",
        "      for n, mapa_n in enumerate(mapa_2):\n",
        "          for m, mapa_n_m in enumerate(mapa_n):\n",
        "            if h(np.array([n,m]),g,100000):\n",
        "\n",
        "              C.append([n,m])\n",
        "              f.append(n)\n",
        "              p.append(m)\n",
        "      plt.plot(f,p,'*',label=str(i))\n",
        "      valor = clase.setdefault(str(i),copy(np.array(C)))  \n",
        "      C.clear()\n",
        "      f.clear()\n",
        "      p.clear()\n",
        "      \n",
        "# Ploteo del mapa \n",
        "\n",
        "    plt.title('SOFM')\n",
        "    plt.legend(loc='upper center', bbox_to_anchor=(1.2, 0.8), shadow=True, ncol=1)\n",
        "    plt.grid()\n",
        "    plt.show()\n",
        "#     print('el diccionario es', clase.keys(), clase.values())\n",
        "  "
      ],
      "execution_count": null,
      "outputs": [
        {
          "output_type": "stream",
          "text": [
            "Downloading data from https://s3.amazonaws.com/img-datasets/mnist.npz\n",
            "11493376/11490434 [==============================] - 1s 0us/step\n"
          ],
          "name": "stdout"
        },
        {
          "output_type": "display_data",
          "data": {
            "image/png": "[encoded data removed]",
            "text/plain": [
              "<Figure size 432x288 with 1 Axes>"
            ]
          },
          "metadata": {
            "tags": []
          }
        }
      ]
    },
    {
      "cell_type": "code",
      "metadata": {
        "id": "a219faBPV4xF",
        "colab_type": "code",
        "colab": {
          "base_uri": "https://localhost:8080/",
          "height": 281
        },
        "outputId": "8fe32370-aaad-4685-a980-9003eed52c04"
      },
      "source": [
        "   # -------------------------------------------------------------------------\n",
        "   # -                            LVQ                                        -\n",
        "   # -------------------------------------------------------------------------\n",
        "    mapa_3 = lvq(train_images, train_labels, mapa_2, clase)\n",
        "\n",
        "    \n",
        "# Poteo de las clases en el lvq    \n",
        "    x_ = [train_images[1],\n",
        "        train_images[3],\n",
        "        train_images[5],\n",
        "        train_images[7],\n",
        "        train_images[2],\n",
        "        train_images[0],\n",
        "        train_images[13],\n",
        "        train_images[15],\n",
        "        train_images[17],\n",
        "        train_images[4]]\n",
        "    C = []\n",
        "    f = []\n",
        "    p = []\n",
        "    clase = {}\n",
        "    for i,x in enumerate(x_):\n",
        "      di = []\n",
        "      mapa_di = []\n",
        "      for n, mapa_n in enumerate(mapa_3):\n",
        "          for m, mapa_n_m in enumerate(mapa_n):\n",
        "              di.append(d(x, mapa_n_m))\n",
        "          mapa_di.append(np.array(di).copy())\n",
        "          di.clear()\n",
        "      dist = np.array(mapa_di)\n",
        "      pos_min = np.unravel_index(dist.argmin(), dist.shape) # indice de la neurona ganadora\n",
        "      g = np.array(pos_min)\n",
        "\n",
        "      for n, mapa_n in enumerate(mapa_3):\n",
        "          for m, mapa_n_m in enumerate(mapa_n):\n",
        "            if h(np.array([n,m]),g,26000):\n",
        "\n",
        "              C.append([n,m])\n",
        "              f.append(n)\n",
        "              p.append(m)\n",
        "\n",
        "      plt.plot(f,p,'*',label=str(i))\n",
        "      valor = clase.setdefault(str(i),copy(np.array(C)))  \n",
        "      C.clear()\n",
        "      f.clear()\n",
        "      p.clear()\n",
        "    plt.title('LVQ')\n",
        "    plt.legend(loc='upper center', bbox_to_anchor=(1.2, 0.8), shadow=True, ncol=1)\n",
        "    plt.grid()\n",
        "    plt.show()\n",
        "    "
      ],
      "execution_count": null,
      "outputs": [
        {
          "output_type": "display_data",
          "data": {
            "image/png": "[encoded data removed]",
            "text/plain": [
              "<Figure size 432x288 with 1 Axes>"
            ]
          },
          "metadata": {
            "tags": []
          }
        }
      ]
    },
    {
      "cell_type": "code",
      "metadata": {
        "id": "-N0mtyB6_exk",
        "colab_type": "code",
        "colab": {
          "base_uri": "https://localhost:8080/",
          "height": 342
        },
        "outputId": "29c9bb30-a434-4a59-c246-7ef884f0db18"
      },
      "source": [
        "   # -------------------------------------------------------------------------\n",
        "   # -                                 TEST                                  -\n",
        "   # -------------------------------------------------------------------------\n",
        "\n",
        "num = 10000\n",
        "x_ = test_images[:num]\n",
        "y_ = test_labels[:num]\n",
        "aciertos = 0\n",
        "errores = 0\n",
        "for index, x in enumerate(x_):\n",
        "  di = []\n",
        "  mapa_di = []\n",
        "  for n, mapa_n in enumerate(mapa_3):\n",
        "      for m, mapa_n_m in enumerate(mapa_n):\n",
        "          di.append(d(x, mapa_n_m))\n",
        "      mapa_di.append(np.array(di).copy())\n",
        "      di.clear()\n",
        "  dist = np.array(mapa_di)\n",
        "  d_min = dist.argmin()\n",
        "  pos_min = np.unravel_index(d_min, dist.shape) # indice de la neurona ganadora\n",
        "  g = np.array(pos_min)\n",
        "  \n",
        "  \n",
        "  flag = True\n",
        "  for cl in clase[str(y_[index])]:\n",
        "    if cl[0] == g[0] and cl[1] == g[1]:\n",
        "      aciertos += 1\n",
        "      flag = False\n",
        "  if flag:\n",
        "    errores += 1\n",
        "\n",
        "print(\"Numero de aciertos: \", aciertos)\n",
        "print('Porcentaje de aciertos: ', aciertos * 100 / num)\n",
        "print('Numero de errores: ', errores)\n",
        "print('Porcentaje de errores: ', errores *100 / num)"
      ],
      "execution_count": null,
      "outputs": [
        {
          "output_type": "display_data",
          "data": {
            "image/png": "[encoded data removed]",
            "text/plain": [
              "<Figure size 432x288 with 1 Axes>"
            ]
          },
          "metadata": {
            "tags": []
          }
        },
        {
          "output_type": "stream",
          "text": [
            "Numero de aciertos:  8788\n",
            "Porcentaje de aciertos:  87.88\n",
            "Numero de errores:  1212\n",
            "Porcentaje de errores:  12.12\n"
          ],
          "name": "stdout"
        }
      ]
    },
    {
      "cell_type": "code",
      "metadata": {
        "id": "1ErvkK-e8UJf",
        "colab_type": "code",
        "colab": {}
      },
      "source": [
        ""
      ],
      "execution_count": null,
      "outputs": []
    }
  ]
}